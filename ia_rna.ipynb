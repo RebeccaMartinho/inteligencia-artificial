{
  "nbformat": 4,
  "nbformat_minor": 0,
  "metadata": {
    "colab": {
      "name": "ia-rna",
      "provenance": [],
      "collapsed_sections": []
    },
    "kernelspec": {
      "name": "python3",
      "display_name": "Python 3"
    },
    "language_info": {
      "name": "python"
    }
  },
  "cells": [
    {
      "cell_type": "code",
      "metadata": {
        "id": "W9qdbVlT6bLj"
      },
      "source": [
        "!mkdir ia-rna\n"
      ],
      "execution_count": null,
      "outputs": []
    },
    {
      "cell_type": "code",
      "metadata": {
        "id": "JYnLCSl2CxID"
      },
      "source": [
        "#!wget -c \"https://raw.githubusercontent.com/RebeccaMartinho/dataset/main/heart_statlog.csv?token=AJQ425BDIBUBCGUAQNYE2CTA2HFPE\""
      ],
      "execution_count": null,
      "outputs": []
    },
    {
      "cell_type": "code",
      "metadata": {
        "id": "canfs2ZWC0yM"
      },
      "source": [
        "!mv heart_statlog.csv /content/ia-rna"
      ],
      "execution_count": null,
      "outputs": []
    },
    {
      "cell_type": "code",
      "metadata": {
        "id": "b_CFjg23T5nu"
      },
      "source": [
        "import numpy as np\n",
        "from numpy import loadtxt\n",
        "from keras.models import Sequential\n",
        "from keras.layers import Dense\n",
        "from sklearn.model_selection import train_test_split\n",
        "import matplotlib.pyplot as plt\n",
        "from sklearn import svm, metrics\n",
        "import keras as keras"
      ],
      "execution_count": 74,
      "outputs": []
    },
    {
      "cell_type": "code",
      "metadata": {
        "id": "1b3wl6MH8W0K"
      },
      "source": [
        "\n",
        "\n",
        "#https://www.kaggle.com/sid321axn/heart-statlog-cleveland-hungary-final?select=heart_statlog_cleveland_hungary_final.csv\n",
        "# load data - previsão de doenças cardíacas\n",
        "datasett = loadtxt('/content/ia-rna/heart_statlog.csv', delimiter=',')\n",
        "\n",
        "#example of a normalization\n",
        "from numpy import asarray\n",
        "from sklearn.preprocessing import MinMaxScaler\n",
        "data = datasett\n",
        "scaler = MinMaxScaler()\n",
        "dataset = scaler.fit_transform(data)\n",
        "\n",
        "X = dataset[:,0:11] #dados\n",
        "y = dataset[:,11] #classes\n",
        "\n",
        "X_train, X_test, y_train, y_test = train_test_split(X, y, test_size=0.33, random_state=42, shuffle=True)\n",
        "\n"
      ],
      "execution_count": 111,
      "outputs": []
    },
    {
      "cell_type": "code",
      "metadata": {
        "id": "aOK5ucS8UFSs"
      },
      "source": [
        "\n",
        "# define model\n",
        "model = Sequential()\n",
        "#input_dim = dimensão de entrada, quantos atributos existem na base de dados sem o vetor classe\n",
        "model.add(Dense(100, input_dim=X.shape[1], activation='relu'))#primeira camada\n",
        "model.add(keras.layers.Dropout(0.2))\n",
        "model.add(Dense(33, activation='relu'))#segunda camada\n",
        "model.add(keras.layers.Dropout(0.2))\n",
        "model.add(Dense(11, activation='relu'))#3 camada\n",
        "model.add(keras.layers.Dropout(0.2))\n",
        "model.add(Dense(1, activation='sigmoid'))#camada de saida"
      ],
      "execution_count": 112,
      "outputs": []
    },
    {
      "cell_type": "code",
      "metadata": {
        "id": "Wr2XquEkUaqT"
      },
      "source": [
        "# compile model\n",
        "model.compile(loss='binary_crossentropy', optimizer='adam', metrics=['accuracy'])\n",
        "\n",
        "# model.compile(loss='binary_crossentropy', optimizer=keras.optimizers.Adagrad(learning_rate=0.001,\n",
        "#     initial_accumulator_value=0.1,\n",
        "#     epsilon=1e-07,\n",
        "#     name=\"Adagrad\",\n",
        "# ), metrics=['accuracy'])\n",
        "    \n",
        "# model.compile(loss='binary_crossentropy', optimizer=keras.optimizers.RMSprop(\n",
        "#     learning_rate=0.009,\n",
        "#     rho=0.9,\n",
        "#     momentum=0.0,\n",
        "#     epsilon=1e-07,\n",
        "#     centered=False,\n",
        "#     name=\"RMSprop\",\n",
        "# ),  metrics=['accuracy'])\n"
      ],
      "execution_count": 113,
      "outputs": []
    },
    {
      "cell_type": "code",
      "metadata": {
        "colab": {
          "base_uri": "https://localhost:8080/"
        },
        "id": "R4eJNnglUeB7",
        "outputId": "ae363849-57d7-43e3-a709-465ab24926c9"
      },
      "source": [
        "\n",
        "# fit model //treinamento\n",
        "\n",
        "#batch_size - quantidade de amostras passadas pela rede neural a cada treinamento\n",
        "history = model.fit(X_train, y_train, validation_data=(X_test, y_test), epochs=200, batch_size=100)\n",
        "print(history.history.keys())\n",
        "\n",
        "\n"
      ],
      "execution_count": 114,
      "outputs": [
        {
          "output_type": "stream",
          "text": [
            "Epoch 1/200\n",
            "8/8 [==============================] - 1s 57ms/step - loss: 0.6997 - accuracy: 0.4948 - val_loss: 0.6573 - val_accuracy: 0.5674\n",
            "Epoch 2/200\n",
            "8/8 [==============================] - 0s 8ms/step - loss: 0.6669 - accuracy: 0.5513 - val_loss: 0.6303 - val_accuracy: 0.7659\n",
            "Epoch 3/200\n",
            "8/8 [==============================] - 0s 8ms/step - loss: 0.6480 - accuracy: 0.6013 - val_loss: 0.6013 - val_accuracy: 0.7837\n",
            "Epoch 4/200\n",
            "8/8 [==============================] - 0s 7ms/step - loss: 0.6337 - accuracy: 0.6006 - val_loss: 0.5756 - val_accuracy: 0.7990\n",
            "Epoch 5/200\n",
            "8/8 [==============================] - 0s 9ms/step - loss: 0.6078 - accuracy: 0.6956 - val_loss: 0.5520 - val_accuracy: 0.7964\n",
            "Epoch 6/200\n",
            "8/8 [==============================] - 0s 8ms/step - loss: 0.5725 - accuracy: 0.7317 - val_loss: 0.5341 - val_accuracy: 0.8015\n",
            "Epoch 7/200\n",
            "8/8 [==============================] - 0s 8ms/step - loss: 0.5488 - accuracy: 0.7753 - val_loss: 0.5199 - val_accuracy: 0.8041\n",
            "Epoch 8/200\n",
            "8/8 [==============================] - 0s 6ms/step - loss: 0.5743 - accuracy: 0.7447 - val_loss: 0.5143 - val_accuracy: 0.7812\n",
            "Epoch 9/200\n",
            "8/8 [==============================] - 0s 8ms/step - loss: 0.5381 - accuracy: 0.7761 - val_loss: 0.4970 - val_accuracy: 0.7812\n",
            "Epoch 10/200\n",
            "8/8 [==============================] - 0s 8ms/step - loss: 0.5242 - accuracy: 0.7744 - val_loss: 0.4805 - val_accuracy: 0.7939\n",
            "Epoch 11/200\n",
            "8/8 [==============================] - 0s 5ms/step - loss: 0.5317 - accuracy: 0.7702 - val_loss: 0.4712 - val_accuracy: 0.7913\n",
            "Epoch 12/200\n",
            "8/8 [==============================] - 0s 8ms/step - loss: 0.4901 - accuracy: 0.7896 - val_loss: 0.4575 - val_accuracy: 0.7990\n",
            "Epoch 13/200\n",
            "8/8 [==============================] - 0s 8ms/step - loss: 0.4849 - accuracy: 0.7900 - val_loss: 0.4474 - val_accuracy: 0.8092\n",
            "Epoch 14/200\n",
            "8/8 [==============================] - 0s 6ms/step - loss: 0.4831 - accuracy: 0.7982 - val_loss: 0.4381 - val_accuracy: 0.8117\n",
            "Epoch 15/200\n",
            "8/8 [==============================] - 0s 9ms/step - loss: 0.4616 - accuracy: 0.8099 - val_loss: 0.4294 - val_accuracy: 0.8270\n",
            "Epoch 16/200\n",
            "8/8 [==============================] - 0s 6ms/step - loss: 0.4785 - accuracy: 0.7920 - val_loss: 0.4270 - val_accuracy: 0.8193\n",
            "Epoch 17/200\n",
            "8/8 [==============================] - 0s 5ms/step - loss: 0.4679 - accuracy: 0.8004 - val_loss: 0.4176 - val_accuracy: 0.8193\n",
            "Epoch 18/200\n",
            "8/8 [==============================] - 0s 6ms/step - loss: 0.4835 - accuracy: 0.7939 - val_loss: 0.4196 - val_accuracy: 0.8270\n",
            "Epoch 19/200\n",
            "8/8 [==============================] - 0s 5ms/step - loss: 0.4524 - accuracy: 0.8128 - val_loss: 0.4106 - val_accuracy: 0.8219\n",
            "Epoch 20/200\n",
            "8/8 [==============================] - 0s 6ms/step - loss: 0.4400 - accuracy: 0.8292 - val_loss: 0.4071 - val_accuracy: 0.8219\n",
            "Epoch 21/200\n",
            "8/8 [==============================] - 0s 6ms/step - loss: 0.4455 - accuracy: 0.8080 - val_loss: 0.4015 - val_accuracy: 0.8321\n",
            "Epoch 22/200\n",
            "8/8 [==============================] - 0s 6ms/step - loss: 0.4430 - accuracy: 0.8199 - val_loss: 0.4052 - val_accuracy: 0.8295\n",
            "Epoch 23/200\n",
            "8/8 [==============================] - 0s 7ms/step - loss: 0.4359 - accuracy: 0.8124 - val_loss: 0.3965 - val_accuracy: 0.8346\n",
            "Epoch 24/200\n",
            "8/8 [==============================] - 0s 6ms/step - loss: 0.4467 - accuracy: 0.8135 - val_loss: 0.3963 - val_accuracy: 0.8346\n",
            "Epoch 25/200\n",
            "8/8 [==============================] - 0s 8ms/step - loss: 0.4308 - accuracy: 0.8172 - val_loss: 0.3959 - val_accuracy: 0.8346\n",
            "Epoch 26/200\n",
            "8/8 [==============================] - 0s 8ms/step - loss: 0.4513 - accuracy: 0.8206 - val_loss: 0.3932 - val_accuracy: 0.8397\n",
            "Epoch 27/200\n",
            "8/8 [==============================] - 0s 6ms/step - loss: 0.4410 - accuracy: 0.8237 - val_loss: 0.3965 - val_accuracy: 0.8397\n",
            "Epoch 28/200\n",
            "8/8 [==============================] - 0s 7ms/step - loss: 0.4074 - accuracy: 0.8444 - val_loss: 0.3956 - val_accuracy: 0.8422\n",
            "Epoch 29/200\n",
            "8/8 [==============================] - 0s 9ms/step - loss: 0.4561 - accuracy: 0.8399 - val_loss: 0.3873 - val_accuracy: 0.8422\n",
            "Epoch 30/200\n",
            "8/8 [==============================] - 0s 6ms/step - loss: 0.4553 - accuracy: 0.7911 - val_loss: 0.3913 - val_accuracy: 0.8448\n",
            "Epoch 31/200\n",
            "8/8 [==============================] - 0s 6ms/step - loss: 0.4086 - accuracy: 0.8293 - val_loss: 0.3920 - val_accuracy: 0.8448\n",
            "Epoch 32/200\n",
            "8/8 [==============================] - 0s 5ms/step - loss: 0.4233 - accuracy: 0.8321 - val_loss: 0.3873 - val_accuracy: 0.8448\n",
            "Epoch 33/200\n",
            "8/8 [==============================] - 0s 9ms/step - loss: 0.4279 - accuracy: 0.8275 - val_loss: 0.3813 - val_accuracy: 0.8422\n",
            "Epoch 34/200\n",
            "8/8 [==============================] - 0s 6ms/step - loss: 0.4196 - accuracy: 0.8234 - val_loss: 0.3907 - val_accuracy: 0.8448\n",
            "Epoch 35/200\n",
            "8/8 [==============================] - 0s 8ms/step - loss: 0.4117 - accuracy: 0.8236 - val_loss: 0.3847 - val_accuracy: 0.8422\n",
            "Epoch 36/200\n",
            "8/8 [==============================] - 0s 8ms/step - loss: 0.4182 - accuracy: 0.8292 - val_loss: 0.3842 - val_accuracy: 0.8473\n",
            "Epoch 37/200\n",
            "8/8 [==============================] - 0s 5ms/step - loss: 0.4116 - accuracy: 0.8307 - val_loss: 0.3805 - val_accuracy: 0.8448\n",
            "Epoch 38/200\n",
            "8/8 [==============================] - 0s 8ms/step - loss: 0.4238 - accuracy: 0.8345 - val_loss: 0.3800 - val_accuracy: 0.8448\n",
            "Epoch 39/200\n",
            "8/8 [==============================] - 0s 6ms/step - loss: 0.3919 - accuracy: 0.8349 - val_loss: 0.3828 - val_accuracy: 0.8524\n",
            "Epoch 40/200\n",
            "8/8 [==============================] - 0s 8ms/step - loss: 0.4223 - accuracy: 0.8275 - val_loss: 0.3821 - val_accuracy: 0.8499\n",
            "Epoch 41/200\n",
            "8/8 [==============================] - 0s 6ms/step - loss: 0.3848 - accuracy: 0.8580 - val_loss: 0.3746 - val_accuracy: 0.8473\n",
            "Epoch 42/200\n",
            "8/8 [==============================] - 0s 6ms/step - loss: 0.3945 - accuracy: 0.8392 - val_loss: 0.3756 - val_accuracy: 0.8473\n",
            "Epoch 43/200\n",
            "8/8 [==============================] - 0s 8ms/step - loss: 0.4041 - accuracy: 0.8219 - val_loss: 0.3802 - val_accuracy: 0.8499\n",
            "Epoch 44/200\n",
            "8/8 [==============================] - 0s 6ms/step - loss: 0.4247 - accuracy: 0.8370 - val_loss: 0.3720 - val_accuracy: 0.8448\n",
            "Epoch 45/200\n",
            "8/8 [==============================] - 0s 9ms/step - loss: 0.4077 - accuracy: 0.8270 - val_loss: 0.3733 - val_accuracy: 0.8524\n",
            "Epoch 46/200\n",
            "8/8 [==============================] - 0s 6ms/step - loss: 0.4055 - accuracy: 0.8283 - val_loss: 0.3779 - val_accuracy: 0.8524\n",
            "Epoch 47/200\n",
            "8/8 [==============================] - 0s 7ms/step - loss: 0.4184 - accuracy: 0.8323 - val_loss: 0.3691 - val_accuracy: 0.8473\n",
            "Epoch 48/200\n",
            "8/8 [==============================] - 0s 6ms/step - loss: 0.3843 - accuracy: 0.8477 - val_loss: 0.3765 - val_accuracy: 0.8524\n",
            "Epoch 49/200\n",
            "8/8 [==============================] - 0s 6ms/step - loss: 0.4232 - accuracy: 0.8285 - val_loss: 0.3769 - val_accuracy: 0.8524\n",
            "Epoch 50/200\n",
            "8/8 [==============================] - 0s 7ms/step - loss: 0.4073 - accuracy: 0.8320 - val_loss: 0.3677 - val_accuracy: 0.8524\n",
            "Epoch 51/200\n",
            "8/8 [==============================] - 0s 6ms/step - loss: 0.4273 - accuracy: 0.8345 - val_loss: 0.3682 - val_accuracy: 0.8524\n",
            "Epoch 52/200\n",
            "8/8 [==============================] - 0s 8ms/step - loss: 0.3887 - accuracy: 0.8646 - val_loss: 0.3723 - val_accuracy: 0.8550\n",
            "Epoch 53/200\n",
            "8/8 [==============================] - 0s 8ms/step - loss: 0.3824 - accuracy: 0.8495 - val_loss: 0.3674 - val_accuracy: 0.8601\n",
            "Epoch 54/200\n",
            "8/8 [==============================] - 0s 6ms/step - loss: 0.3651 - accuracy: 0.8572 - val_loss: 0.3669 - val_accuracy: 0.8601\n",
            "Epoch 55/200\n",
            "8/8 [==============================] - 0s 10ms/step - loss: 0.3917 - accuracy: 0.8406 - val_loss: 0.3673 - val_accuracy: 0.8626\n",
            "Epoch 56/200\n",
            "8/8 [==============================] - 0s 6ms/step - loss: 0.4106 - accuracy: 0.8288 - val_loss: 0.3661 - val_accuracy: 0.8601\n",
            "Epoch 57/200\n",
            "8/8 [==============================] - 0s 6ms/step - loss: 0.4056 - accuracy: 0.8376 - val_loss: 0.3652 - val_accuracy: 0.8626\n",
            "Epoch 58/200\n",
            "8/8 [==============================] - 0s 8ms/step - loss: 0.3875 - accuracy: 0.8506 - val_loss: 0.3678 - val_accuracy: 0.8575\n",
            "Epoch 59/200\n",
            "8/8 [==============================] - 0s 6ms/step - loss: 0.3634 - accuracy: 0.8533 - val_loss: 0.3632 - val_accuracy: 0.8601\n",
            "Epoch 60/200\n",
            "8/8 [==============================] - 0s 8ms/step - loss: 0.3780 - accuracy: 0.8453 - val_loss: 0.3631 - val_accuracy: 0.8626\n",
            "Epoch 61/200\n",
            "8/8 [==============================] - 0s 8ms/step - loss: 0.3934 - accuracy: 0.8568 - val_loss: 0.3622 - val_accuracy: 0.8626\n",
            "Epoch 62/200\n",
            "8/8 [==============================] - 0s 6ms/step - loss: 0.3818 - accuracy: 0.8492 - val_loss: 0.3600 - val_accuracy: 0.8651\n",
            "Epoch 63/200\n",
            "8/8 [==============================] - 0s 6ms/step - loss: 0.3630 - accuracy: 0.8622 - val_loss: 0.3608 - val_accuracy: 0.8575\n",
            "Epoch 64/200\n",
            "8/8 [==============================] - 0s 6ms/step - loss: 0.3436 - accuracy: 0.8701 - val_loss: 0.3598 - val_accuracy: 0.8626\n",
            "Epoch 65/200\n",
            "8/8 [==============================] - 0s 8ms/step - loss: 0.3785 - accuracy: 0.8343 - val_loss: 0.3614 - val_accuracy: 0.8626\n",
            "Epoch 66/200\n",
            "8/8 [==============================] - 0s 8ms/step - loss: 0.3767 - accuracy: 0.8471 - val_loss: 0.3596 - val_accuracy: 0.8677\n",
            "Epoch 67/200\n",
            "8/8 [==============================] - 0s 6ms/step - loss: 0.3901 - accuracy: 0.8471 - val_loss: 0.3565 - val_accuracy: 0.8651\n",
            "Epoch 68/200\n",
            "8/8 [==============================] - 0s 8ms/step - loss: 0.3723 - accuracy: 0.8458 - val_loss: 0.3576 - val_accuracy: 0.8651\n",
            "Epoch 69/200\n",
            "8/8 [==============================] - 0s 5ms/step - loss: 0.3883 - accuracy: 0.8412 - val_loss: 0.3604 - val_accuracy: 0.8601\n",
            "Epoch 70/200\n",
            "8/8 [==============================] - 0s 6ms/step - loss: 0.4028 - accuracy: 0.8495 - val_loss: 0.3570 - val_accuracy: 0.8626\n",
            "Epoch 71/200\n",
            "8/8 [==============================] - 0s 9ms/step - loss: 0.3938 - accuracy: 0.8279 - val_loss: 0.3548 - val_accuracy: 0.8651\n",
            "Epoch 72/200\n",
            "8/8 [==============================] - 0s 6ms/step - loss: 0.3659 - accuracy: 0.8511 - val_loss: 0.3593 - val_accuracy: 0.8575\n",
            "Epoch 73/200\n",
            "8/8 [==============================] - 0s 9ms/step - loss: 0.3819 - accuracy: 0.8445 - val_loss: 0.3537 - val_accuracy: 0.8651\n",
            "Epoch 74/200\n",
            "8/8 [==============================] - 0s 9ms/step - loss: 0.3826 - accuracy: 0.8561 - val_loss: 0.3555 - val_accuracy: 0.8626\n",
            "Epoch 75/200\n",
            "8/8 [==============================] - 0s 7ms/step - loss: 0.3764 - accuracy: 0.8368 - val_loss: 0.3554 - val_accuracy: 0.8651\n",
            "Epoch 76/200\n",
            "8/8 [==============================] - 0s 6ms/step - loss: 0.3603 - accuracy: 0.8519 - val_loss: 0.3523 - val_accuracy: 0.8651\n",
            "Epoch 77/200\n",
            "8/8 [==============================] - 0s 7ms/step - loss: 0.4157 - accuracy: 0.8382 - val_loss: 0.3536 - val_accuracy: 0.8601\n",
            "Epoch 78/200\n",
            "8/8 [==============================] - 0s 8ms/step - loss: 0.3391 - accuracy: 0.8591 - val_loss: 0.3526 - val_accuracy: 0.8626\n",
            "Epoch 79/200\n",
            "8/8 [==============================] - 0s 8ms/step - loss: 0.3636 - accuracy: 0.8455 - val_loss: 0.3505 - val_accuracy: 0.8651\n",
            "Epoch 80/200\n",
            "8/8 [==============================] - 0s 6ms/step - loss: 0.3638 - accuracy: 0.8493 - val_loss: 0.3503 - val_accuracy: 0.8677\n",
            "Epoch 81/200\n",
            "8/8 [==============================] - 0s 7ms/step - loss: 0.3654 - accuracy: 0.8487 - val_loss: 0.3563 - val_accuracy: 0.8575\n",
            "Epoch 82/200\n",
            "8/8 [==============================] - 0s 7ms/step - loss: 0.3710 - accuracy: 0.8382 - val_loss: 0.3494 - val_accuracy: 0.8651\n",
            "Epoch 83/200\n",
            "8/8 [==============================] - 0s 6ms/step - loss: 0.3675 - accuracy: 0.8596 - val_loss: 0.3488 - val_accuracy: 0.8677\n",
            "Epoch 84/200\n",
            "8/8 [==============================] - 0s 7ms/step - loss: 0.3804 - accuracy: 0.8459 - val_loss: 0.3523 - val_accuracy: 0.8601\n",
            "Epoch 85/200\n",
            "8/8 [==============================] - 0s 8ms/step - loss: 0.3754 - accuracy: 0.8574 - val_loss: 0.3478 - val_accuracy: 0.8677\n",
            "Epoch 86/200\n",
            "8/8 [==============================] - 0s 6ms/step - loss: 0.3659 - accuracy: 0.8697 - val_loss: 0.3476 - val_accuracy: 0.8651\n",
            "Epoch 87/200\n",
            "8/8 [==============================] - 0s 5ms/step - loss: 0.3642 - accuracy: 0.8536 - val_loss: 0.3505 - val_accuracy: 0.8626\n",
            "Epoch 88/200\n",
            "8/8 [==============================] - 0s 8ms/step - loss: 0.3614 - accuracy: 0.8475 - val_loss: 0.3456 - val_accuracy: 0.8651\n",
            "Epoch 89/200\n",
            "8/8 [==============================] - 0s 5ms/step - loss: 0.3391 - accuracy: 0.8667 - val_loss: 0.3453 - val_accuracy: 0.8677\n",
            "Epoch 90/200\n",
            "8/8 [==============================] - 0s 7ms/step - loss: 0.3293 - accuracy: 0.8680 - val_loss: 0.3475 - val_accuracy: 0.8677\n",
            "Epoch 91/200\n",
            "8/8 [==============================] - 0s 9ms/step - loss: 0.3629 - accuracy: 0.8582 - val_loss: 0.3482 - val_accuracy: 0.8702\n",
            "Epoch 92/200\n",
            "8/8 [==============================] - 0s 6ms/step - loss: 0.3534 - accuracy: 0.8572 - val_loss: 0.3464 - val_accuracy: 0.8677\n",
            "Epoch 93/200\n",
            "8/8 [==============================] - 0s 6ms/step - loss: 0.3743 - accuracy: 0.8480 - val_loss: 0.3464 - val_accuracy: 0.8702\n",
            "Epoch 94/200\n",
            "8/8 [==============================] - 0s 6ms/step - loss: 0.3463 - accuracy: 0.8619 - val_loss: 0.3473 - val_accuracy: 0.8651\n",
            "Epoch 95/200\n",
            "8/8 [==============================] - 0s 7ms/step - loss: 0.3248 - accuracy: 0.8710 - val_loss: 0.3443 - val_accuracy: 0.8677\n",
            "Epoch 96/200\n",
            "8/8 [==============================] - 0s 8ms/step - loss: 0.3469 - accuracy: 0.8617 - val_loss: 0.3438 - val_accuracy: 0.8677\n",
            "Epoch 97/200\n",
            "8/8 [==============================] - 0s 9ms/step - loss: 0.3176 - accuracy: 0.8732 - val_loss: 0.3452 - val_accuracy: 0.8677\n",
            "Epoch 98/200\n",
            "8/8 [==============================] - 0s 9ms/step - loss: 0.3327 - accuracy: 0.8614 - val_loss: 0.3473 - val_accuracy: 0.8702\n",
            "Epoch 99/200\n",
            "8/8 [==============================] - 0s 6ms/step - loss: 0.3163 - accuracy: 0.8743 - val_loss: 0.3435 - val_accuracy: 0.8677\n",
            "Epoch 100/200\n",
            "8/8 [==============================] - 0s 10ms/step - loss: 0.3585 - accuracy: 0.8602 - val_loss: 0.3459 - val_accuracy: 0.8677\n",
            "Epoch 101/200\n",
            "8/8 [==============================] - 0s 9ms/step - loss: 0.3538 - accuracy: 0.8545 - val_loss: 0.3421 - val_accuracy: 0.8728\n",
            "Epoch 102/200\n",
            "8/8 [==============================] - 0s 6ms/step - loss: 0.3102 - accuracy: 0.8635 - val_loss: 0.3427 - val_accuracy: 0.8728\n",
            "Epoch 103/200\n",
            "8/8 [==============================] - 0s 6ms/step - loss: 0.3542 - accuracy: 0.8562 - val_loss: 0.3433 - val_accuracy: 0.8702\n",
            "Epoch 104/200\n",
            "8/8 [==============================] - 0s 8ms/step - loss: 0.3376 - accuracy: 0.8680 - val_loss: 0.3403 - val_accuracy: 0.8702\n",
            "Epoch 105/200\n",
            "8/8 [==============================] - 0s 7ms/step - loss: 0.3511 - accuracy: 0.8570 - val_loss: 0.3391 - val_accuracy: 0.8702\n",
            "Epoch 106/200\n",
            "8/8 [==============================] - 0s 6ms/step - loss: 0.3252 - accuracy: 0.8801 - val_loss: 0.3397 - val_accuracy: 0.8651\n",
            "Epoch 107/200\n",
            "8/8 [==============================] - 0s 6ms/step - loss: 0.3582 - accuracy: 0.8604 - val_loss: 0.3399 - val_accuracy: 0.8702\n",
            "Epoch 108/200\n",
            "8/8 [==============================] - 0s 8ms/step - loss: 0.3441 - accuracy: 0.8435 - val_loss: 0.3398 - val_accuracy: 0.8702\n",
            "Epoch 109/200\n",
            "8/8 [==============================] - 0s 8ms/step - loss: 0.3439 - accuracy: 0.8579 - val_loss: 0.3369 - val_accuracy: 0.8702\n",
            "Epoch 110/200\n",
            "8/8 [==============================] - 0s 7ms/step - loss: 0.3324 - accuracy: 0.8684 - val_loss: 0.3393 - val_accuracy: 0.8728\n",
            "Epoch 111/200\n",
            "8/8 [==============================] - 0s 6ms/step - loss: 0.3194 - accuracy: 0.8663 - val_loss: 0.3390 - val_accuracy: 0.8728\n",
            "Epoch 112/200\n",
            "8/8 [==============================] - 0s 6ms/step - loss: 0.3365 - accuracy: 0.8603 - val_loss: 0.3378 - val_accuracy: 0.8753\n",
            "Epoch 113/200\n",
            "8/8 [==============================] - 0s 11ms/step - loss: 0.3336 - accuracy: 0.8723 - val_loss: 0.3490 - val_accuracy: 0.8651\n",
            "Epoch 114/200\n",
            "8/8 [==============================] - 0s 9ms/step - loss: 0.3177 - accuracy: 0.8652 - val_loss: 0.3356 - val_accuracy: 0.8779\n",
            "Epoch 115/200\n",
            "8/8 [==============================] - 0s 6ms/step - loss: 0.3527 - accuracy: 0.8529 - val_loss: 0.3393 - val_accuracy: 0.8702\n",
            "Epoch 116/200\n",
            "8/8 [==============================] - 0s 6ms/step - loss: 0.3435 - accuracy: 0.8708 - val_loss: 0.3377 - val_accuracy: 0.8728\n",
            "Epoch 117/200\n",
            "8/8 [==============================] - 0s 8ms/step - loss: 0.3510 - accuracy: 0.8485 - val_loss: 0.3379 - val_accuracy: 0.8677\n",
            "Epoch 118/200\n",
            "8/8 [==============================] - 0s 8ms/step - loss: 0.3359 - accuracy: 0.8751 - val_loss: 0.3362 - val_accuracy: 0.8753\n",
            "Epoch 119/200\n",
            "8/8 [==============================] - 0s 7ms/step - loss: 0.3625 - accuracy: 0.8441 - val_loss: 0.3403 - val_accuracy: 0.8677\n",
            "Epoch 120/200\n",
            "8/8 [==============================] - 0s 8ms/step - loss: 0.3446 - accuracy: 0.8573 - val_loss: 0.3354 - val_accuracy: 0.8702\n",
            "Epoch 121/200\n",
            "8/8 [==============================] - 0s 7ms/step - loss: 0.3179 - accuracy: 0.8725 - val_loss: 0.3380 - val_accuracy: 0.8753\n",
            "Epoch 122/200\n",
            "8/8 [==============================] - 0s 7ms/step - loss: 0.3808 - accuracy: 0.8370 - val_loss: 0.3392 - val_accuracy: 0.8702\n",
            "Epoch 123/200\n",
            "8/8 [==============================] - 0s 9ms/step - loss: 0.3219 - accuracy: 0.8773 - val_loss: 0.3331 - val_accuracy: 0.8753\n",
            "Epoch 124/200\n",
            "8/8 [==============================] - 0s 9ms/step - loss: 0.3564 - accuracy: 0.8497 - val_loss: 0.3369 - val_accuracy: 0.8728\n",
            "Epoch 125/200\n",
            "8/8 [==============================] - 0s 6ms/step - loss: 0.3490 - accuracy: 0.8614 - val_loss: 0.3341 - val_accuracy: 0.8753\n",
            "Epoch 126/200\n",
            "8/8 [==============================] - 0s 9ms/step - loss: 0.3179 - accuracy: 0.8822 - val_loss: 0.3315 - val_accuracy: 0.8779\n",
            "Epoch 127/200\n",
            "8/8 [==============================] - 0s 6ms/step - loss: 0.3274 - accuracy: 0.8765 - val_loss: 0.3407 - val_accuracy: 0.8753\n",
            "Epoch 128/200\n",
            "8/8 [==============================] - 0s 6ms/step - loss: 0.3344 - accuracy: 0.8688 - val_loss: 0.3340 - val_accuracy: 0.8728\n",
            "Epoch 129/200\n",
            "8/8 [==============================] - 0s 6ms/step - loss: 0.3209 - accuracy: 0.8686 - val_loss: 0.3367 - val_accuracy: 0.8728\n",
            "Epoch 130/200\n",
            "8/8 [==============================] - 0s 7ms/step - loss: 0.3537 - accuracy: 0.8583 - val_loss: 0.3356 - val_accuracy: 0.8702\n",
            "Epoch 131/200\n",
            "8/8 [==============================] - 0s 9ms/step - loss: 0.3207 - accuracy: 0.8818 - val_loss: 0.3353 - val_accuracy: 0.8753\n",
            "Epoch 132/200\n",
            "8/8 [==============================] - 0s 6ms/step - loss: 0.3160 - accuracy: 0.8762 - val_loss: 0.3346 - val_accuracy: 0.8728\n",
            "Epoch 133/200\n",
            "8/8 [==============================] - 0s 6ms/step - loss: 0.3321 - accuracy: 0.8736 - val_loss: 0.3335 - val_accuracy: 0.8753\n",
            "Epoch 134/200\n",
            "8/8 [==============================] - 0s 10ms/step - loss: 0.2989 - accuracy: 0.8772 - val_loss: 0.3327 - val_accuracy: 0.8779\n",
            "Epoch 135/200\n",
            "8/8 [==============================] - 0s 6ms/step - loss: 0.3198 - accuracy: 0.8753 - val_loss: 0.3338 - val_accuracy: 0.8753\n",
            "Epoch 136/200\n",
            "8/8 [==============================] - 0s 6ms/step - loss: 0.3232 - accuracy: 0.8804 - val_loss: 0.3377 - val_accuracy: 0.8728\n",
            "Epoch 137/200\n",
            "8/8 [==============================] - 0s 6ms/step - loss: 0.3323 - accuracy: 0.8731 - val_loss: 0.3328 - val_accuracy: 0.8753\n",
            "Epoch 138/200\n",
            "8/8 [==============================] - 0s 8ms/step - loss: 0.2901 - accuracy: 0.8864 - val_loss: 0.3322 - val_accuracy: 0.8753\n",
            "Epoch 139/200\n",
            "8/8 [==============================] - 0s 7ms/step - loss: 0.3153 - accuracy: 0.8706 - val_loss: 0.3307 - val_accuracy: 0.8830\n",
            "Epoch 140/200\n",
            "8/8 [==============================] - 0s 8ms/step - loss: 0.3140 - accuracy: 0.8749 - val_loss: 0.3325 - val_accuracy: 0.8779\n",
            "Epoch 141/200\n",
            "8/8 [==============================] - 0s 6ms/step - loss: 0.3232 - accuracy: 0.8743 - val_loss: 0.3339 - val_accuracy: 0.8753\n",
            "Epoch 142/200\n",
            "8/8 [==============================] - 0s 8ms/step - loss: 0.3511 - accuracy: 0.8668 - val_loss: 0.3341 - val_accuracy: 0.8753\n",
            "Epoch 143/200\n",
            "8/8 [==============================] - 0s 7ms/step - loss: 0.3119 - accuracy: 0.8794 - val_loss: 0.3310 - val_accuracy: 0.8779\n",
            "Epoch 144/200\n",
            "8/8 [==============================] - 0s 7ms/step - loss: 0.3031 - accuracy: 0.8834 - val_loss: 0.3336 - val_accuracy: 0.8753\n",
            "Epoch 145/200\n",
            "8/8 [==============================] - 0s 9ms/step - loss: 0.3121 - accuracy: 0.8671 - val_loss: 0.3325 - val_accuracy: 0.8753\n",
            "Epoch 146/200\n",
            "8/8 [==============================] - 0s 10ms/step - loss: 0.3073 - accuracy: 0.8533 - val_loss: 0.3441 - val_accuracy: 0.8651\n",
            "Epoch 147/200\n",
            "8/8 [==============================] - 0s 6ms/step - loss: 0.3215 - accuracy: 0.8764 - val_loss: 0.3319 - val_accuracy: 0.8779\n",
            "Epoch 148/200\n",
            "8/8 [==============================] - 0s 9ms/step - loss: 0.3041 - accuracy: 0.8792 - val_loss: 0.3343 - val_accuracy: 0.8804\n",
            "Epoch 149/200\n",
            "8/8 [==============================] - 0s 8ms/step - loss: 0.3147 - accuracy: 0.8792 - val_loss: 0.3294 - val_accuracy: 0.8804\n",
            "Epoch 150/200\n",
            "8/8 [==============================] - 0s 9ms/step - loss: 0.3111 - accuracy: 0.8812 - val_loss: 0.3342 - val_accuracy: 0.8753\n",
            "Epoch 151/200\n",
            "8/8 [==============================] - 0s 8ms/step - loss: 0.3172 - accuracy: 0.8810 - val_loss: 0.3291 - val_accuracy: 0.8779\n",
            "Epoch 152/200\n",
            "8/8 [==============================] - 0s 6ms/step - loss: 0.2903 - accuracy: 0.8868 - val_loss: 0.3336 - val_accuracy: 0.8779\n",
            "Epoch 153/200\n",
            "8/8 [==============================] - 0s 8ms/step - loss: 0.2938 - accuracy: 0.8766 - val_loss: 0.3332 - val_accuracy: 0.8804\n",
            "Epoch 154/200\n",
            "8/8 [==============================] - 0s 8ms/step - loss: 0.2823 - accuracy: 0.8886 - val_loss: 0.3291 - val_accuracy: 0.8830\n",
            "Epoch 155/200\n",
            "8/8 [==============================] - 0s 8ms/step - loss: 0.3147 - accuracy: 0.8832 - val_loss: 0.3357 - val_accuracy: 0.8779\n",
            "Epoch 156/200\n",
            "8/8 [==============================] - 0s 6ms/step - loss: 0.3008 - accuracy: 0.8818 - val_loss: 0.3294 - val_accuracy: 0.8804\n",
            "Epoch 157/200\n",
            "8/8 [==============================] - 0s 8ms/step - loss: 0.3064 - accuracy: 0.8805 - val_loss: 0.3337 - val_accuracy: 0.8753\n",
            "Epoch 158/200\n",
            "8/8 [==============================] - 0s 9ms/step - loss: 0.3207 - accuracy: 0.8619 - val_loss: 0.3300 - val_accuracy: 0.8804\n",
            "Epoch 159/200\n",
            "8/8 [==============================] - 0s 7ms/step - loss: 0.3080 - accuracy: 0.8657 - val_loss: 0.3297 - val_accuracy: 0.8830\n",
            "Epoch 160/200\n",
            "8/8 [==============================] - 0s 8ms/step - loss: 0.2925 - accuracy: 0.8803 - val_loss: 0.3316 - val_accuracy: 0.8753\n",
            "Epoch 161/200\n",
            "8/8 [==============================] - 0s 7ms/step - loss: 0.3466 - accuracy: 0.8626 - val_loss: 0.3280 - val_accuracy: 0.8753\n",
            "Epoch 162/200\n",
            "8/8 [==============================] - 0s 6ms/step - loss: 0.3160 - accuracy: 0.8719 - val_loss: 0.3287 - val_accuracy: 0.8779\n",
            "Epoch 163/200\n",
            "8/8 [==============================] - 0s 9ms/step - loss: 0.3033 - accuracy: 0.8838 - val_loss: 0.3299 - val_accuracy: 0.8804\n",
            "Epoch 164/200\n",
            "8/8 [==============================] - 0s 6ms/step - loss: 0.2983 - accuracy: 0.8986 - val_loss: 0.3256 - val_accuracy: 0.8830\n",
            "Epoch 165/200\n",
            "8/8 [==============================] - 0s 7ms/step - loss: 0.3224 - accuracy: 0.8730 - val_loss: 0.3274 - val_accuracy: 0.8804\n",
            "Epoch 166/200\n",
            "8/8 [==============================] - 0s 6ms/step - loss: 0.2768 - accuracy: 0.9019 - val_loss: 0.3305 - val_accuracy: 0.8753\n",
            "Epoch 167/200\n",
            "8/8 [==============================] - 0s 6ms/step - loss: 0.2908 - accuracy: 0.8876 - val_loss: 0.3288 - val_accuracy: 0.8804\n",
            "Epoch 168/200\n",
            "8/8 [==============================] - 0s 9ms/step - loss: 0.2836 - accuracy: 0.8924 - val_loss: 0.3370 - val_accuracy: 0.8728\n",
            "Epoch 169/200\n",
            "8/8 [==============================] - 0s 6ms/step - loss: 0.3191 - accuracy: 0.8789 - val_loss: 0.3287 - val_accuracy: 0.8779\n",
            "Epoch 170/200\n",
            "8/8 [==============================] - 0s 6ms/step - loss: 0.3038 - accuracy: 0.8824 - val_loss: 0.3272 - val_accuracy: 0.8804\n",
            "Epoch 171/200\n",
            "8/8 [==============================] - 0s 6ms/step - loss: 0.3034 - accuracy: 0.8724 - val_loss: 0.3292 - val_accuracy: 0.8753\n",
            "Epoch 172/200\n",
            "8/8 [==============================] - 0s 8ms/step - loss: 0.2826 - accuracy: 0.8915 - val_loss: 0.3251 - val_accuracy: 0.8830\n",
            "Epoch 173/200\n",
            "8/8 [==============================] - 0s 8ms/step - loss: 0.2628 - accuracy: 0.8845 - val_loss: 0.3267 - val_accuracy: 0.8753\n",
            "Epoch 174/200\n",
            "8/8 [==============================] - 0s 7ms/step - loss: 0.2658 - accuracy: 0.8927 - val_loss: 0.3312 - val_accuracy: 0.8677\n",
            "Epoch 175/200\n",
            "8/8 [==============================] - 0s 7ms/step - loss: 0.2761 - accuracy: 0.8928 - val_loss: 0.3247 - val_accuracy: 0.8804\n",
            "Epoch 176/200\n",
            "8/8 [==============================] - 0s 6ms/step - loss: 0.2812 - accuracy: 0.8840 - val_loss: 0.3245 - val_accuracy: 0.8804\n",
            "Epoch 177/200\n",
            "8/8 [==============================] - 0s 7ms/step - loss: 0.2877 - accuracy: 0.8840 - val_loss: 0.3286 - val_accuracy: 0.8702\n",
            "Epoch 178/200\n",
            "8/8 [==============================] - 0s 7ms/step - loss: 0.2930 - accuracy: 0.8795 - val_loss: 0.3250 - val_accuracy: 0.8728\n",
            "Epoch 179/200\n",
            "8/8 [==============================] - 0s 7ms/step - loss: 0.2918 - accuracy: 0.8950 - val_loss: 0.3292 - val_accuracy: 0.8728\n",
            "Epoch 180/200\n",
            "8/8 [==============================] - 0s 6ms/step - loss: 0.3032 - accuracy: 0.8854 - val_loss: 0.3235 - val_accuracy: 0.8728\n",
            "Epoch 181/200\n",
            "8/8 [==============================] - 0s 7ms/step - loss: 0.2738 - accuracy: 0.9057 - val_loss: 0.3252 - val_accuracy: 0.8677\n",
            "Epoch 182/200\n",
            "8/8 [==============================] - 0s 7ms/step - loss: 0.2940 - accuracy: 0.8973 - val_loss: 0.3266 - val_accuracy: 0.8677\n",
            "Epoch 183/200\n",
            "8/8 [==============================] - 0s 6ms/step - loss: 0.2930 - accuracy: 0.8900 - val_loss: 0.3246 - val_accuracy: 0.8702\n",
            "Epoch 184/200\n",
            "8/8 [==============================] - 0s 8ms/step - loss: 0.2703 - accuracy: 0.9061 - val_loss: 0.3247 - val_accuracy: 0.8702\n",
            "Epoch 185/200\n",
            "8/8 [==============================] - 0s 6ms/step - loss: 0.2655 - accuracy: 0.8921 - val_loss: 0.3267 - val_accuracy: 0.8677\n",
            "Epoch 186/200\n",
            "8/8 [==============================] - 0s 6ms/step - loss: 0.2925 - accuracy: 0.8811 - val_loss: 0.3267 - val_accuracy: 0.8753\n",
            "Epoch 187/200\n",
            "8/8 [==============================] - 0s 9ms/step - loss: 0.2849 - accuracy: 0.8947 - val_loss: 0.3250 - val_accuracy: 0.8804\n",
            "Epoch 188/200\n",
            "8/8 [==============================] - 0s 8ms/step - loss: 0.2830 - accuracy: 0.8900 - val_loss: 0.3287 - val_accuracy: 0.8753\n",
            "Epoch 189/200\n",
            "8/8 [==============================] - 0s 6ms/step - loss: 0.2750 - accuracy: 0.8951 - val_loss: 0.3255 - val_accuracy: 0.8728\n",
            "Epoch 190/200\n",
            "8/8 [==============================] - 0s 8ms/step - loss: 0.2922 - accuracy: 0.8911 - val_loss: 0.3269 - val_accuracy: 0.8753\n",
            "Epoch 191/200\n",
            "8/8 [==============================] - 0s 6ms/step - loss: 0.2747 - accuracy: 0.8907 - val_loss: 0.3278 - val_accuracy: 0.8728\n",
            "Epoch 192/200\n",
            "8/8 [==============================] - 0s 6ms/step - loss: 0.2744 - accuracy: 0.8959 - val_loss: 0.3247 - val_accuracy: 0.8728\n",
            "Epoch 193/200\n",
            "8/8 [==============================] - 0s 6ms/step - loss: 0.2874 - accuracy: 0.8864 - val_loss: 0.3220 - val_accuracy: 0.8753\n",
            "Epoch 194/200\n",
            "8/8 [==============================] - 0s 9ms/step - loss: 0.3046 - accuracy: 0.8701 - val_loss: 0.3239 - val_accuracy: 0.8779\n",
            "Epoch 195/200\n",
            "8/8 [==============================] - 0s 7ms/step - loss: 0.2842 - accuracy: 0.8844 - val_loss: 0.3325 - val_accuracy: 0.8702\n",
            "Epoch 196/200\n",
            "8/8 [==============================] - 0s 6ms/step - loss: 0.2909 - accuracy: 0.8852 - val_loss: 0.3238 - val_accuracy: 0.8728\n",
            "Epoch 197/200\n",
            "8/8 [==============================] - 0s 6ms/step - loss: 0.2724 - accuracy: 0.8927 - val_loss: 0.3257 - val_accuracy: 0.8728\n",
            "Epoch 198/200\n",
            "8/8 [==============================] - 0s 7ms/step - loss: 0.2833 - accuracy: 0.8916 - val_loss: 0.3270 - val_accuracy: 0.8728\n",
            "Epoch 199/200\n",
            "8/8 [==============================] - 0s 7ms/step - loss: 0.3061 - accuracy: 0.8705 - val_loss: 0.3315 - val_accuracy: 0.8728\n",
            "Epoch 200/200\n",
            "8/8 [==============================] - 0s 7ms/step - loss: 0.2623 - accuracy: 0.9019 - val_loss: 0.3252 - val_accuracy: 0.8804\n",
            "dict_keys(['loss', 'accuracy', 'val_loss', 'val_accuracy'])\n"
          ],
          "name": "stdout"
        }
      ]
    },
    {
      "cell_type": "code",
      "metadata": {
        "colab": {
          "base_uri": "https://localhost:8080/",
          "height": 573
        },
        "id": "OMoUkItZUi_H",
        "outputId": "686c63ff-8209-4598-9e1f-b8ed49ba7e73"
      },
      "source": [
        "#Gráfico do desempenho da accuracy\n",
        "plt.plot(history.history['accuracy'])\n",
        "plt.plot(history.history['val_accuracy'])\n",
        "plt.title('model_accuracy')\n",
        "plt.ylabel('accuracy')\n",
        "plt.xlabel('epoch')\n",
        "plt.legend(['train','test'], loc='upper left')\n",
        "plt.show()\n",
        "\n",
        "#Gráfico do desempenho do loss\n",
        "plt.plot(history.history['loss'])\n",
        "plt.plot(history.history['val_loss'])\n",
        "plt.title('model_loss')\n",
        "plt.ylabel('loss')\n",
        "plt.xlabel('epoch')\n",
        "plt.legend(['train','test'], loc='upper left')\n",
        "plt.show()"
      ],
      "execution_count": 115,
      "outputs": [
        {
          "output_type": "display_data",
          "data": {
            "image/png": "[encoded data removed]",
            "text/plain": [
              "<Figure size 432x288 with 1 Axes>"
            ]
          },
          "metadata": {
            "tags": [],
            "needs_background": "light"
          }
        },
        {
          "output_type": "display_data",
          "data": {
            "image/png": "[encoded data removed]",
            "text/plain": [
              "<Figure size 432x288 with 1 Axes>"
            ]
          },
          "metadata": {
            "tags": [],
            "needs_background": "light"
          }
        }
      ]
    },
    {
      "cell_type": "code",
      "metadata": {
        "colab": {
          "base_uri": "https://localhost:8080/"
        },
        "id": "48N70TENLNkf",
        "outputId": "7c54ef67-4264-4b00-cf0d-73a4c31050d7"
      },
      "source": [
        "# evaluate model\n",
        "_, accuracy = model.evaluate(X_test, y_test)\n",
        "print('Accuracy: %.2f' % (accuracy*100))"
      ],
      "execution_count": 105,
      "outputs": [
        {
          "output_type": "stream",
          "text": [
            "13/13 [==============================] - 0s 1ms/step - loss: 0.3316 - accuracy: 0.8753\n",
            "Accuracy: 87.53\n"
          ],
          "name": "stdout"
        }
      ]
    },
    {
      "cell_type": "code",
      "metadata": {
        "colab": {
          "base_uri": "https://localhost:8080/",
          "height": 462
        },
        "id": "dbMEgywdiWLN",
        "outputId": "dbe4800f-d209-4fd3-fd17-8582c84d7dd5"
      },
      "source": [
        "from sklearn.metrics import confusion_matrix, ConfusionMatrixDisplay\n",
        "\n",
        "pred = model.predict_classes(X_test)\n",
        "cm = confusion_matrix(y_test, pred)\n",
        "print(cm)\n",
        "\n",
        "tn, fp, fn, tp = confusion_matrix(y_test, pred).ravel()\n",
        "tpr = tp/(tp+fn) #true positive\n",
        "tnr = tn/(tn+fp) #true neg\n",
        "acc = (tp+tn) / (tp+tn+fn+fp)\n",
        "print(\"TPR : \", tpr)\n",
        "print(\"TNR : \", tnr)\n",
        "print(\"ACC: \", acc)\n",
        "\n",
        "#AUC\n",
        "fpr, tpr, thresholds = metrics.roc_curve(y_test, pred, pos_label=1)\n",
        "auc = metrics.auc(fpr, tpr)\n",
        "print(\"AUC:\", auc)\n",
        "\n",
        "#grafico curva roc\n",
        "plt.plot([0,1], [0,1], linestyle='--', lw=2, color='r', label='Chance', alpha=.8)\n",
        "plt.plot(fpr, tpr, color='b', label=r'ROC (AUC = %0.02F)' % (auc), lw=2, alpha=.8)\n",
        "plt.suptitle('ROC CURVE')\n",
        "plt.xlabel('fpr')\n",
        "plt.ylabel('tpr')\n",
        "plt.legend(loc='lower right')\n",
        "plt.show()\n",
        "\n"
      ],
      "execution_count": 106,
      "outputs": [
        {
          "output_type": "stream",
          "text": [
            "/usr/local/lib/python3.7/dist-packages/keras/engine/sequential.py:450: UserWarning: `model.predict_classes()` is deprecated and will be removed after 2021-01-01. Please use instead:* `np.argmax(model.predict(x), axis=-1)`,   if your model does multi-class classification   (e.g. if it uses a `softmax` last-layer activation).* `(model.predict(x) > 0.5).astype(\"int32\")`,   if your model does binary classification   (e.g. if it uses a `sigmoid` last-layer activation).\n",
            "  warnings.warn('`model.predict_classes()` is deprecated and '\n"
          ],
          "name": "stderr"
        },
        {
          "output_type": "stream",
          "text": [
            "[[148  22]\n",
            " [ 27 196]]\n",
            "TPR :  0.8789237668161435\n",
            "TNR :  0.8705882352941177\n",
            "ACC:  0.8753180661577609\n",
            "AUC: 0.8747560010551305\n"
          ],
          "name": "stdout"
        },
        {
          "output_type": "display_data",
          "data": {
            "image/png": "[encoded data removed]",
            "text/plain": [
              "<Figure size 432x288 with 1 Axes>"
            ]
          },
          "metadata": {
            "tags": [],
            "needs_background": "light"
          }
        }
      ]
    },
    {
      "cell_type": "code",
      "metadata": {
        "colab": {
          "base_uri": "https://localhost:8080/",
          "height": 297
        },
        "id": "kiN6zRPF4UWC",
        "outputId": "77bb9fd6-c2f6-472c-c1c5-f0a9f1ed8dbc"
      },
      "source": [
        "#matriz de confusão \n",
        "cmx = confusion_matrix(y_test, pred)\n",
        "cmd = ConfusionMatrixDisplay(cmx, display_labels=['sem doença cardíaca','com doença cardíaca'])\n",
        "cmd.plot(values_format='d')"
      ],
      "execution_count": 107,
      "outputs": [
        {
          "output_type": "execute_result",
          "data": {
            "text/plain": [
              "<sklearn.metrics._plot.confusion_matrix.ConfusionMatrixDisplay at 0x7f78f94a3150>"
            ]
          },
          "metadata": {
            "tags": []
          },
          "execution_count": 107
        },
        {
          "output_type": "display_data",
          "data": {
            "image/png": "[encoded data removed]",
            "text/plain": [
              "<Figure size 432x288 with 2 Axes>"
            ]
          },
          "metadata": {
            "tags": [],
            "needs_background": "light"
          }
        }
      ]
    },
    {
      "cell_type": "code",
      "metadata": {
        "colab": {
          "base_uri": "https://localhost:8080/"
        },
        "id": "lMMAN4OSvOfY",
        "outputId": "aec4a5a5-172d-4f4b-a258-2a6287cf6d4e"
      },
      "source": [
        "print(dataset)"
      ],
      "execution_count": null,
      "outputs": [
        {
          "output_type": "stream",
          "text": [
            "[[0.24489796 1.         0.33333333 ... 0.29545455 0.33333333 0.        ]\n",
            " [0.42857143 0.         0.66666667 ... 0.40909091 0.66666667 1.        ]\n",
            " [0.18367347 1.         0.33333333 ... 0.29545455 0.33333333 0.        ]\n",
            " ...\n",
            " [0.59183673 1.         1.         ... 0.43181818 0.66666667 1.        ]\n",
            " [0.59183673 0.         0.33333333 ... 0.29545455 0.66666667 1.        ]\n",
            " [0.20408163 1.         0.66666667 ... 0.29545455 0.33333333 0.        ]]\n"
          ],
          "name": "stdout"
        }
      ]
    }
  ]
}